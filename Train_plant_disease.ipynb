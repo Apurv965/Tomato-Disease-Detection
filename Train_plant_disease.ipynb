{
 "cells": [
  {
   "cell_type": "markdown",
   "id": "374c4c34-658a-4b2b-88e8-fe9684f706d4",
   "metadata": {},
   "source": [
    "importing Libraries"
   ]
  },
  {
   "cell_type": "code",
   "execution_count": 2,
   "id": "851a1367-51a9-4a0d-9d17-a2836c358a43",
   "metadata": {},
   "outputs": [],
   "source": [
    "import tensorflow as tf\n",
    "import matplotlib.pyplot as plt\n",
    "import pandas as pd\n",
    "import seaborn as sns\n"
   ]
  },
  {
   "cell_type": "markdown",
   "id": "33dc7aff-ad35-4125-9ad4-696ee2a7cc06",
   "metadata": {},
   "source": [
    "Data Preprocessing"
   ]
  },
  {
   "cell_type": "markdown",
   "id": "33709deb-2072-49d7-bbf7-9130c46bd45f",
   "metadata": {},
   "source": [
    "Training Image Preprocessing"
   ]
  },
  {
   "cell_type": "code",
   "execution_count": 3,
   "id": "e4c613a0-9c73-4475-b50e-5fa96c27aaa4",
   "metadata": {},
   "outputs": [
    {
     "name": "stdout",
     "output_type": "stream",
     "text": [
      "Found 18345 files belonging to 10 classes.\n"
     ]
    }
   ],
   "source": [
    "training_set = tf.keras.utils.image_dataset_from_directory(\n",
    "    'train',\n",
    "    labels=\"inferred\",\n",
    "    label_mode=\"categorical\",\n",
    "    class_names=None,\n",
    "    color_mode=\"rgb\",\n",
    "    batch_size=32,\n",
    "    image_size=(128, 128),\n",
    "    shuffle=True,\n",
    "    seed=None,\n",
    "    validation_split=None,\n",
    "    subset=None,\n",
    "    interpolation=\"bilinear\",\n",
    "    follow_links=False,\n",
    "    crop_to_aspect_ratio=False,\n",
    ")"
   ]
  },
  {
   "cell_type": "markdown",
   "id": "ef51e832-7014-449b-8fb7-5c145a0c86ab",
   "metadata": {},
   "source": [
    "Validation Image Preprocessing"
   ]
  },
  {
   "cell_type": "code",
   "execution_count": 4,
   "id": "7066df8e-17bc-465c-b94e-4f752415ca08",
   "metadata": {},
   "outputs": [
    {
     "name": "stdout",
     "output_type": "stream",
     "text": [
      "Found 4585 files belonging to 10 classes.\n"
     ]
    }
   ],
   "source": [
    "validation_set = tf.keras.utils.image_dataset_from_directory(\n",
    "    'valid',\n",
    "    labels=\"inferred\",\n",
    "    label_mode=\"categorical\",\n",
    "    class_names=None,\n",
    "    color_mode=\"rgb\",\n",
    "    batch_size=32,\n",
    "    image_size=(128, 128),\n",
    "    shuffle=True,\n",
    "    seed=None,\n",
    "    validation_split=None,\n",
    "    subset=None,\n",
    "    interpolation=\"bilinear\",\n",
    "    follow_links=False,\n",
    "    crop_to_aspect_ratio=False,\n",
    ")"
   ]
  },
  {
   "cell_type": "code",
   "execution_count": 5,
   "id": "37bbd476-baea-4cfb-8875-4689e9ed8fd8",
   "metadata": {},
   "outputs": [
    {
     "data": {
      "text/plain": [
       "<BatchDataset element_spec=(TensorSpec(shape=(None, 128, 128, 3), dtype=tf.float32, name=None), TensorSpec(shape=(None, 10), dtype=tf.float32, name=None))>"
      ]
     },
     "execution_count": 5,
     "metadata": {},
     "output_type": "execute_result"
    }
   ],
   "source": [
    "training_set"
   ]
  },
  {
   "cell_type": "code",
   "execution_count": 6,
   "id": "fb220581-3254-42f4-8b5f-c6120e4cffc6",
   "metadata": {},
   "outputs": [
    {
     "name": "stdout",
     "output_type": "stream",
     "text": [
      "tf.Tensor(\n",
      "[[[[116.25  97.25  91.25]\n",
      "   [114.75  95.75  89.75]\n",
      "   [121.5  102.5   96.5 ]\n",
      "   ...\n",
      "   [167.25 156.25 152.25]\n",
      "   [162.75 151.75 147.75]\n",
      "   [161.   150.   146.  ]]\n",
      "\n",
      "  [[112.75  93.75  87.75]\n",
      "   [117.5   98.5   92.5 ]\n",
      "   [125.5  106.5  100.5 ]\n",
      "   ...\n",
      "   [161.5  150.5  146.5 ]\n",
      "   [166.75 155.75 151.75]\n",
      "   [163.5  152.5  148.5 ]]\n",
      "\n",
      "  [[117.75  98.75  92.75]\n",
      "   [122.75 103.75  97.75]\n",
      "   [122.25 103.25  97.25]\n",
      "   ...\n",
      "   [161.75 150.75 146.75]\n",
      "   [170.   159.   155.  ]\n",
      "   [162.5  151.5  147.5 ]]\n",
      "\n",
      "  ...\n",
      "\n",
      "  [[125.75 111.75 110.75]\n",
      "   [116.5  102.5  101.5 ]\n",
      "   [125.5  111.5  110.5 ]\n",
      "   ...\n",
      "   [145.5  135.5  134.5 ]\n",
      "   [146.25 136.25 135.25]\n",
      "   [156.75 146.75 145.75]]\n",
      "\n",
      "  [[112.5   98.5   97.5 ]\n",
      "   [119.75 105.75 104.75]\n",
      "   [112.75  98.75  97.75]\n",
      "   ...\n",
      "   [150.   140.   139.  ]\n",
      "   [149.   139.   138.  ]\n",
      "   [156.5  146.5  145.5 ]]\n",
      "\n",
      "  [[113.25  99.25  98.25]\n",
      "   [104.    90.    89.  ]\n",
      "   [120.   106.   105.  ]\n",
      "   ...\n",
      "   [148.   138.   137.  ]\n",
      "   [151.   141.   140.  ]\n",
      "   [153.5  143.5  142.5 ]]]\n",
      "\n",
      "\n",
      " [[[138.5  129.5  132.5 ]\n",
      "   [113.75 104.75 107.75]\n",
      "   [116.   107.   110.  ]\n",
      "   ...\n",
      "   [138.25 128.25 127.25]\n",
      "   [139.5  129.5  128.5 ]\n",
      "   [127.25 117.25 116.25]]\n",
      "\n",
      "  [[107.    98.   101.  ]\n",
      "   [111.75 102.75 105.75]\n",
      "   [109.   100.   103.  ]\n",
      "   ...\n",
      "   [131.5  121.5  120.5 ]\n",
      "   [134.5  124.5  123.5 ]\n",
      "   [127.5  117.5  116.5 ]]\n",
      "\n",
      "  [[108.75  99.75 102.75]\n",
      "   [103.25  94.25  97.25]\n",
      "   [110.   101.   104.  ]\n",
      "   ...\n",
      "   [127.75 117.75 116.75]\n",
      "   [128.75 118.75 117.75]\n",
      "   [125.75 115.75 114.75]]\n",
      "\n",
      "  ...\n",
      "\n",
      "  [[164.75 159.75 165.75]\n",
      "   [167.25 162.25 168.25]\n",
      "   [169.5  164.5  170.5 ]\n",
      "   ...\n",
      "   [210.25 206.25 207.25]\n",
      "   [206.75 202.75 203.75]\n",
      "   [210.75 206.75 207.75]]\n",
      "\n",
      "  [[159.75 154.75 160.75]\n",
      "   [167.25 162.25 168.25]\n",
      "   [167.5  162.5  168.5 ]\n",
      "   ...\n",
      "   [204.25 200.25 201.25]\n",
      "   [200.25 196.25 197.25]\n",
      "   [201.75 197.75 198.75]]\n",
      "\n",
      "  [[165.25 160.25 166.25]\n",
      "   [166.5  161.5  167.5 ]\n",
      "   [168.5  163.5  169.5 ]\n",
      "   ...\n",
      "   [206.   202.   203.  ]\n",
      "   [206.75 202.75 203.75]\n",
      "   [210.25 206.25 207.25]]]\n",
      "\n",
      "\n",
      " [[[138.75 132.75 134.75]\n",
      "   [162.75 156.75 158.75]\n",
      "   [147.25 141.25 143.25]\n",
      "   ...\n",
      "   [132.   127.   133.  ]\n",
      "   [137.75 132.75 138.75]\n",
      "   [125.   120.   126.  ]]\n",
      "\n",
      "  [[149.5  143.5  145.5 ]\n",
      "   [137.5  131.5  133.5 ]\n",
      "   [159.25 153.25 155.25]\n",
      "   ...\n",
      "   [133.75 128.75 134.75]\n",
      "   [135.5  130.5  136.5 ]\n",
      "   [148.5  143.5  149.5 ]]\n",
      "\n",
      "  [[132.   126.   128.  ]\n",
      "   [185.25 179.25 181.25]\n",
      "   [147.   141.   143.  ]\n",
      "   ...\n",
      "   [140.   135.   141.  ]\n",
      "   [146.   141.   147.  ]\n",
      "   [111.5  106.5  112.5 ]]\n",
      "\n",
      "  ...\n",
      "\n",
      "  [[129.25 127.25 132.25]\n",
      "   [113.25 111.25 116.25]\n",
      "   [113.   111.   116.  ]\n",
      "   ...\n",
      "   [ 93.    91.    96.  ]\n",
      "   [ 93.25  91.25  96.25]\n",
      "   [ 96.25  94.25  99.25]]\n",
      "\n",
      "  [[119.75 117.75 122.75]\n",
      "   [112.75 110.75 115.75]\n",
      "   [115.75 113.75 118.75]\n",
      "   ...\n",
      "   [ 91.5   89.5   94.5 ]\n",
      "   [ 83.5   81.5   86.5 ]\n",
      "   [ 89.25  87.25  92.25]]\n",
      "\n",
      "  [[120.25 118.25 123.25]\n",
      "   [129.25 127.25 132.25]\n",
      "   [111.   109.   114.  ]\n",
      "   ...\n",
      "   [ 96.25  94.25  99.25]\n",
      "   [ 91.75  89.75  94.75]\n",
      "   [ 89.5   87.5   92.5 ]]]\n",
      "\n",
      "\n",
      " ...\n",
      "\n",
      "\n",
      " [[[146.75 138.75 135.75]\n",
      "   [153.25 145.25 142.25]\n",
      "   [131.25 123.25 120.25]\n",
      "   ...\n",
      "   [142.5  131.5  129.5 ]\n",
      "   [147.25 136.25 134.25]\n",
      "   [136.   125.   123.  ]]\n",
      "\n",
      "  [[150.5  142.5  139.5 ]\n",
      "   [158.5  150.5  147.5 ]\n",
      "   [142.   134.   131.  ]\n",
      "   ...\n",
      "   [144.   133.   131.  ]\n",
      "   [135.25 124.25 122.25]\n",
      "   [135.25 124.25 122.25]]\n",
      "\n",
      "  [[143.5  135.5  132.5 ]\n",
      "   [160.   152.   149.  ]\n",
      "   [143.25 135.25 132.25]\n",
      "   ...\n",
      "   [135.5  124.5  122.5 ]\n",
      "   [141.5  130.5  128.5 ]\n",
      "   [149.   138.   136.  ]]\n",
      "\n",
      "  ...\n",
      "\n",
      "  [[176.   165.   163.  ]\n",
      "   [178.   167.   165.  ]\n",
      "   [170.75 159.75 157.75]\n",
      "   ...\n",
      "   [156.5  142.5  141.5 ]\n",
      "   [159.25 145.25 144.25]\n",
      "   [156.   142.   141.  ]]\n",
      "\n",
      "  [[175.   164.   162.  ]\n",
      "   [172.5  161.5  159.5 ]\n",
      "   [167.   156.   154.  ]\n",
      "   ...\n",
      "   [146.   132.   131.  ]\n",
      "   [146.5  132.5  131.5 ]\n",
      "   [158.5  144.5  143.5 ]]\n",
      "\n",
      "  [[173.25 162.25 160.25]\n",
      "   [166.   155.   153.  ]\n",
      "   [171.75 160.75 158.75]\n",
      "   ...\n",
      "   [155.   141.   140.  ]\n",
      "   [150.25 136.25 135.25]\n",
      "   [155.5  141.5  140.5 ]]]\n",
      "\n",
      "\n",
      " [[[107.5  111.5  110.5 ]\n",
      "   [104.5  108.5  107.5 ]\n",
      "   [105.25 109.25 108.25]\n",
      "   ...\n",
      "   [142.   148.   120.  ]\n",
      "   [133.5  138.   109.5 ]\n",
      "   [109.5  114.    85.5 ]]\n",
      "\n",
      "  [[107.75 111.75 110.75]\n",
      "   [106.25 110.25 109.25]\n",
      "   [107.   111.   110.  ]\n",
      "   ...\n",
      "   [141.   146.5  122.  ]\n",
      "   [171.5  175.   152.  ]\n",
      "   [144.   147.5  124.5 ]]\n",
      "\n",
      "  [[108.5  112.5  111.5 ]\n",
      "   [108.75 112.75 111.75]\n",
      "   [109.5  113.5  112.5 ]\n",
      "   ...\n",
      "   [131.   135.75 115.5 ]\n",
      "   [178.5  181.   164.5 ]\n",
      "   [177.25 179.75 164.75]]\n",
      "\n",
      "  ...\n",
      "\n",
      "  [[ 82.    83.    77.  ]\n",
      "   [ 80.75  81.75  73.75]\n",
      "   [ 81.25  82.25  74.25]\n",
      "   ...\n",
      "   [175.25 174.25 179.25]\n",
      "   [177.25 176.25 181.25]\n",
      "   [181.5  180.5  185.5 ]]\n",
      "\n",
      "  [[ 82.25  83.25  77.25]\n",
      "   [ 80.5   81.5   73.5 ]\n",
      "   [ 79.75  80.75  72.75]\n",
      "   ...\n",
      "   [174.   173.   178.  ]\n",
      "   [179.5  178.5  183.5 ]\n",
      "   [180.75 179.75 184.75]]\n",
      "\n",
      "  [[ 85.75  86.75  80.75]\n",
      "   [ 80.    81.    73.  ]\n",
      "   [ 79.    80.    72.  ]\n",
      "   ...\n",
      "   [175.75 174.75 179.75]\n",
      "   [176.5  175.5  180.5 ]\n",
      "   [174.75 173.75 178.75]]]\n",
      "\n",
      "\n",
      " [[[128.5  116.5  126.5 ]\n",
      "   [114.   102.   112.  ]\n",
      "   [135.75 123.75 133.75]\n",
      "   ...\n",
      "   [123.75 110.75 119.75]\n",
      "   [148.5  135.5  144.5 ]\n",
      "   [132.25 119.25 128.25]]\n",
      "\n",
      "  [[130.5  118.5  128.5 ]\n",
      "   [154.25 142.25 152.25]\n",
      "   [117.25 105.25 115.25]\n",
      "   ...\n",
      "   [112.5   99.5  108.5 ]\n",
      "   [123.5  110.5  119.5 ]\n",
      "   [141.5  128.5  137.5 ]]\n",
      "\n",
      "  [[153.25 141.25 151.25]\n",
      "   [117.25 105.25 115.25]\n",
      "   [114.   102.   112.  ]\n",
      "   ...\n",
      "   [104.5   91.5  100.5 ]\n",
      "   [129.75 116.75 125.75]\n",
      "   [106.    93.   102.  ]]\n",
      "\n",
      "  ...\n",
      "\n",
      "  [[124.75 118.75 128.75]\n",
      "   [142.5  136.5  146.5 ]\n",
      "   [149.25 143.25 153.25]\n",
      "   ...\n",
      "   [144.75 137.75 144.75]\n",
      "   [161.   154.   161.  ]\n",
      "   [141.25 134.25 141.25]]\n",
      "\n",
      "  [[160.25 154.25 164.25]\n",
      "   [103.75  97.75 107.75]\n",
      "   [154.75 148.75 158.75]\n",
      "   ...\n",
      "   [140.75 133.75 140.75]\n",
      "   [148.5  141.5  148.5 ]\n",
      "   [159.75 152.75 159.75]]\n",
      "\n",
      "  [[117.25 111.25 121.25]\n",
      "   [133.25 127.25 137.25]\n",
      "   [137.   131.   141.  ]\n",
      "   ...\n",
      "   [147.   140.   147.  ]\n",
      "   [174.75 167.75 174.75]\n",
      "   [148.   141.   148.  ]]]], shape=(32, 128, 128, 3), dtype=float32) (32, 128, 128, 3)\n",
      "tf.Tensor(\n",
      "[[0. 0. 0. 0. 0. 0. 0. 1. 0. 0.]\n",
      " [0. 0. 0. 0. 0. 1. 0. 0. 0. 0.]\n",
      " [0. 0. 0. 0. 0. 0. 0. 0. 0. 1.]\n",
      " [0. 0. 1. 0. 0. 0. 0. 0. 0. 0.]\n",
      " [0. 0. 0. 0. 0. 1. 0. 0. 0. 0.]\n",
      " [0. 0. 0. 0. 0. 1. 0. 0. 0. 0.]\n",
      " [0. 0. 0. 0. 0. 0. 0. 0. 1. 0.]\n",
      " [0. 0. 0. 0. 0. 0. 0. 0. 0. 1.]\n",
      " [0. 0. 0. 0. 0. 0. 0. 0. 1. 0.]\n",
      " [0. 0. 1. 0. 0. 0. 0. 0. 0. 0.]\n",
      " [0. 0. 0. 0. 0. 1. 0. 0. 0. 0.]\n",
      " [1. 0. 0. 0. 0. 0. 0. 0. 0. 0.]\n",
      " [0. 0. 0. 0. 0. 1. 0. 0. 0. 0.]\n",
      " [0. 0. 0. 1. 0. 0. 0. 0. 0. 0.]\n",
      " [0. 0. 1. 0. 0. 0. 0. 0. 0. 0.]\n",
      " [0. 0. 0. 0. 0. 1. 0. 0. 0. 0.]\n",
      " [0. 1. 0. 0. 0. 0. 0. 0. 0. 0.]\n",
      " [0. 0. 0. 0. 0. 0. 0. 1. 0. 0.]\n",
      " [1. 0. 0. 0. 0. 0. 0. 0. 0. 0.]\n",
      " [0. 0. 0. 0. 0. 1. 0. 0. 0. 0.]\n",
      " [0. 0. 0. 0. 0. 0. 0. 0. 0. 1.]\n",
      " [0. 0. 0. 0. 0. 0. 0. 1. 0. 0.]\n",
      " [0. 1. 0. 0. 0. 0. 0. 0. 0. 0.]\n",
      " [0. 0. 0. 0. 0. 0. 0. 0. 0. 1.]\n",
      " [0. 0. 1. 0. 0. 0. 0. 0. 0. 0.]\n",
      " [0. 0. 0. 0. 0. 1. 0. 0. 0. 0.]\n",
      " [1. 0. 0. 0. 0. 0. 0. 0. 0. 0.]\n",
      " [0. 0. 0. 1. 0. 0. 0. 0. 0. 0.]\n",
      " [0. 0. 0. 0. 0. 1. 0. 0. 0. 0.]\n",
      " [0. 0. 0. 1. 0. 0. 0. 0. 0. 0.]\n",
      " [0. 0. 1. 0. 0. 0. 0. 0. 0. 0.]\n",
      " [0. 0. 0. 0. 0. 0. 0. 0. 0. 1.]], shape=(32, 10), dtype=float32) (32, 10)\n"
     ]
    }
   ],
   "source": [
    "for x,y in training_set:\n",
    "    print(x,x.shape)\n",
    "    print(y,y.shape)\n",
    "    break"
   ]
  },
  {
   "cell_type": "markdown",
   "id": "26656bd7",
   "metadata": {},
   "source": [
    "Building Model"
   ]
  },
  {
   "cell_type": "code",
   "execution_count": 7,
   "id": "23cae9ad",
   "metadata": {},
   "outputs": [],
   "source": [
    "from tensorflow.keras.layers import Dense,Conv2D,MaxPool2D,Flatten,Dropout\n",
    "from tensorflow.keras.models import Sequential"
   ]
  },
  {
   "cell_type": "code",
   "execution_count": 8,
   "id": "ce99011f",
   "metadata": {},
   "outputs": [],
   "source": [
    "model = Sequential()"
   ]
  },
  {
   "cell_type": "markdown",
   "id": "a8b4462c",
   "metadata": {},
   "source": [
    "## Building Convolution layer"
   ]
  },
  {
   "cell_type": "code",
   "execution_count": 9,
   "id": "aa435d5e",
   "metadata": {},
   "outputs": [],
   "source": [
    "model.add(Conv2D(filters=32,kernel_size=3,padding='same',activation='relu',input_shape=[128,128,3]))\n",
    "model.add(Conv2D(filters=32,kernel_size=3,activation='relu'))\n",
    "model.add(MaxPool2D(pool_size=2,strides=2))"
   ]
  },
  {
   "cell_type": "code",
   "execution_count": 10,
   "id": "e1b02040",
   "metadata": {},
   "outputs": [],
   "source": [
    "model.add(Conv2D(filters=64,kernel_size=3,padding='same',activation='relu'))\n",
    "model.add(Conv2D(filters=64,kernel_size=3,activation='relu'))\n",
    "model.add(MaxPool2D(pool_size=2,strides=2))"
   ]
  },
  {
   "cell_type": "code",
   "execution_count": 11,
   "id": "40e6cb3a",
   "metadata": {},
   "outputs": [],
   "source": [
    "model.add(Conv2D(filters=128,kernel_size=3,padding='same',activation='relu'))\n",
    "model.add(Conv2D(filters=128,kernel_size=3,activation='relu'))\n",
    "model.add(MaxPool2D(pool_size=2,strides=2))"
   ]
  },
  {
   "cell_type": "code",
   "execution_count": 12,
   "id": "b4e67df8",
   "metadata": {},
   "outputs": [],
   "source": [
    "model.add(Conv2D(filters=128,kernel_size=3,padding='same',activation='relu'))\n",
    "model.add(Conv2D(filters=128,kernel_size=3,activation='relu'))\n",
    "model.add(MaxPool2D(pool_size=2,strides=2))"
   ]
  },
  {
   "cell_type": "code",
   "execution_count": 13,
   "id": "c4252c39",
   "metadata": {},
   "outputs": [],
   "source": [
    "model.add(Conv2D(filters=512,kernel_size=3,padding='same',activation='relu'))\n",
    "model.add(Conv2D(filters=512,kernel_size=3,activation='relu'))\n",
    "model.add(MaxPool2D(pool_size=2,strides=2))"
   ]
  },
  {
   "cell_type": "code",
   "execution_count": 14,
   "id": "3fbd2f54",
   "metadata": {},
   "outputs": [],
   "source": [
    "model.add(Dropout(0.25))"
   ]
  },
  {
   "cell_type": "code",
   "execution_count": 15,
   "id": "4bc5e782",
   "metadata": {},
   "outputs": [],
   "source": [
    "model.add(Flatten())"
   ]
  },
  {
   "cell_type": "code",
   "execution_count": 16,
   "id": "9585690d",
   "metadata": {},
   "outputs": [],
   "source": [
    "model.add(Dense(units=1500,activation='relu'))"
   ]
  },
  {
   "cell_type": "code",
   "execution_count": 17,
   "id": "52689981",
   "metadata": {},
   "outputs": [],
   "source": [
    "model.add(Dropout(0.4))"
   ]
  },
  {
   "cell_type": "code",
   "execution_count": 18,
   "id": "c71fbf10",
   "metadata": {},
   "outputs": [],
   "source": [
    "model.add(Dense(units=38,activation='softmax'))"
   ]
  },
  {
   "cell_type": "markdown",
   "id": "c001ef4a",
   "metadata": {},
   "source": [
    "Compiling Model"
   ]
  },
  {
   "cell_type": "code",
   "execution_count": 19,
   "id": "e46fd943",
   "metadata": {},
   "outputs": [],
   "source": [
    "model.compile(optimizer=tf.keras.optimizers.legacy.Adam(\n",
    "    learning_rate=0.0001),loss='categorical_crossentropy',metrics=['accuracy'])"
   ]
  },
  {
   "cell_type": "code",
   "execution_count": 20,
   "id": "efb3db76",
   "metadata": {},
   "outputs": [
    {
     "name": "stdout",
     "output_type": "stream",
     "text": [
      "Model: \"sequential\"\n",
      "_________________________________________________________________\n",
      " Layer (type)                Output Shape              Param #   \n",
      "=================================================================\n",
      " conv2d (Conv2D)             (None, 128, 128, 32)      896       \n",
      "                                                                 \n",
      " conv2d_1 (Conv2D)           (None, 126, 126, 32)      9248      \n",
      "                                                                 \n",
      " max_pooling2d (MaxPooling2D  (None, 63, 63, 32)       0         \n",
      " )                                                               \n",
      "                                                                 \n",
      " conv2d_2 (Conv2D)           (None, 63, 63, 64)        18496     \n",
      "                                                                 \n",
      " conv2d_3 (Conv2D)           (None, 61, 61, 64)        36928     \n",
      "                                                                 \n",
      " max_pooling2d_1 (MaxPooling  (None, 30, 30, 64)       0         \n",
      " 2D)                                                             \n",
      "                                                                 \n",
      " conv2d_4 (Conv2D)           (None, 30, 30, 128)       73856     \n",
      "                                                                 \n",
      " conv2d_5 (Conv2D)           (None, 28, 28, 128)       147584    \n",
      "                                                                 \n",
      " max_pooling2d_2 (MaxPooling  (None, 14, 14, 128)      0         \n",
      " 2D)                                                             \n",
      "                                                                 \n",
      " conv2d_6 (Conv2D)           (None, 14, 14, 128)       147584    \n",
      "                                                                 \n",
      " conv2d_7 (Conv2D)           (None, 12, 12, 128)       147584    \n",
      "                                                                 \n",
      " max_pooling2d_3 (MaxPooling  (None, 6, 6, 128)        0         \n",
      " 2D)                                                             \n",
      "                                                                 \n",
      " conv2d_8 (Conv2D)           (None, 6, 6, 512)         590336    \n",
      "                                                                 \n",
      " conv2d_9 (Conv2D)           (None, 4, 4, 512)         2359808   \n",
      "                                                                 \n",
      " max_pooling2d_4 (MaxPooling  (None, 2, 2, 512)        0         \n",
      " 2D)                                                             \n",
      "                                                                 \n",
      " dropout (Dropout)           (None, 2, 2, 512)         0         \n",
      "                                                                 \n",
      " flatten (Flatten)           (None, 2048)              0         \n",
      "                                                                 \n",
      " dense (Dense)               (None, 1500)              3073500   \n",
      "                                                                 \n",
      " dropout_1 (Dropout)         (None, 1500)              0         \n",
      "                                                                 \n",
      " dense_1 (Dense)             (None, 38)                57038     \n",
      "                                                                 \n",
      "=================================================================\n",
      "Total params: 6,662,858\n",
      "Trainable params: 6,662,858\n",
      "Non-trainable params: 0\n",
      "_________________________________________________________________\n"
     ]
    }
   ],
   "source": [
    "model.summary()"
   ]
  },
  {
   "cell_type": "markdown",
   "id": "676c56c8",
   "metadata": {},
   "source": [
    "Model Traaining "
   ]
  },
  {
   "cell_type": "code",
   "execution_count": 21,
   "id": "47c8e053",
   "metadata": {},
   "outputs": [],
   "source": [
    "model.pop()  \n",
    "model.add(Dense(units=10, activation='softmax'))  "
   ]
  },
  {
   "cell_type": "code",
   "execution_count": null,
   "id": "361a4daa",
   "metadata": {},
   "outputs": [
    {
     "name": "stdout",
     "output_type": "stream",
     "text": [
      "574/574 [==============================] - 2026s 4s/step - loss: 1.0700 - accuracy: 0.6249 - val_loss: 0.6612 - val_accuracy: 0.7666\n"
     ]
    }
   ],
   "source": [
    "training_history = model.fit(training_set, validation_data=validation_set, epochs=1)"
   ]
  },
  {
   "cell_type": "markdown",
   "id": "d981a29e",
   "metadata": {},
   "source": [
    "Model Evaluation"
   ]
  },
  {
   "cell_type": "code",
   "execution_count": 24,
   "id": "840c998c",
   "metadata": {},
   "outputs": [
    {
     "name": "stdout",
     "output_type": "stream",
     "text": [
      "574/574 [==============================] - 146s 254ms/step - loss: 0.6318 - accuracy: 0.7818\n"
     ]
    }
   ],
   "source": [
    "train_loss,train_acc = model.evaluate(training_set)"
   ]
  },
  {
   "cell_type": "code",
   "execution_count": 25,
   "id": "8f219357",
   "metadata": {},
   "outputs": [
    {
     "name": "stdout",
     "output_type": "stream",
     "text": [
      "0.6317784190177917 0.7818478941917419\n"
     ]
    }
   ],
   "source": [
    "print(train_loss,train_acc)"
   ]
  },
  {
   "cell_type": "code",
   "execution_count": 26,
   "id": "3e238556",
   "metadata": {},
   "outputs": [
    {
     "name": "stdout",
     "output_type": "stream",
     "text": [
      "144/144 [==============================] - 36s 251ms/step - loss: 0.6612 - accuracy: 0.7666\n"
     ]
    }
   ],
   "source": [
    "#Model on Validation set\n",
    "val_loss,val_acc = model.evaluate(validation_set)"
   ]
  },
  {
   "cell_type": "code",
   "execution_count": 27,
   "id": "52b57196",
   "metadata": {},
   "outputs": [
    {
     "name": "stdout",
     "output_type": "stream",
     "text": [
      "0.6611607074737549 0.7666302919387817\n"
     ]
    }
   ],
   "source": [
    "print(val_loss,val_acc)"
   ]
  },
  {
   "cell_type": "markdown",
   "id": "26889b1a",
   "metadata": {},
   "source": [
    "Saving Model"
   ]
  },
  {
   "cell_type": "code",
   "execution_count": 28,
   "id": "808e60a6",
   "metadata": {},
   "outputs": [],
   "source": [
    "model.save(\"trained_model.keras\")"
   ]
  },
  {
   "cell_type": "code",
   "execution_count": 29,
   "id": "be131b5b",
   "metadata": {},
   "outputs": [
    {
     "data": {
      "text/plain": [
       "{'loss': [1.0699634552001953],\n",
       " 'accuracy': [0.6248568892478943],\n",
       " 'val_loss': [0.6611608862876892],\n",
       " 'val_accuracy': [0.7666302919387817]}"
      ]
     },
     "execution_count": 29,
     "metadata": {},
     "output_type": "execute_result"
    }
   ],
   "source": [
    "training_history.history"
   ]
  },
  {
   "cell_type": "code",
   "execution_count": 30,
   "id": "1a974efd",
   "metadata": {},
   "outputs": [],
   "source": [
    "#Recording History in json\n",
    "import json\n",
    "with open(\"training_hist.json\",\"w\") as f:\n",
    "    json.dump(training_history.history,f)"
   ]
  },
  {
   "cell_type": "code",
   "execution_count": 31,
   "id": "c0ae2755",
   "metadata": {},
   "outputs": [
    {
     "data": {
      "text/plain": [
       "[0.7666302919387817]"
      ]
     },
     "execution_count": 31,
     "metadata": {},
     "output_type": "execute_result"
    }
   ],
   "source": [
    "training_history.history['val_accuracy']"
   ]
  },
  {
   "cell_type": "markdown",
   "id": "dafd6bc3",
   "metadata": {},
   "source": [
    "Accuracy Visualization"
   ]
  },
  {
   "cell_type": "code",
   "execution_count": 35,
   "id": "11654007",
   "metadata": {},
   "outputs": [
    {
     "data": {
      "image/png": "[encoded data removed]",
      "text/plain": [
       "<Figure size 640x480 with 1 Axes>"
      ]
     },
     "metadata": {},
     "output_type": "display_data"
    }
   ],
   "source": [
    "# Adjust the epochs list to match the length of the accuracy history\n",
    "epochs = [i for i in range(1, len(training_history.history['accuracy']) + 1)]\n",
    "plt.plot(epochs, training_history.history['accuracy'], color='red', label='Training Accuracy')\n",
    "plt.plot(epochs, training_history.history['val_accuracy'], color='blue', label='Validation Accuracy')\n",
    "plt.xlabel(\"No. of Epochs\")\n",
    "plt.ylabel(\"Accuracy Result\")\n",
    "plt.title(\"Visualization of Accuracy Result\")\n",
    "plt.legend()\n",
    "plt.show()"
   ]
  },
  {
   "cell_type": "markdown",
   "id": "e1b118b3",
   "metadata": {},
   "source": [
    "Some other metrics for model evaluation"
   ]
  },
  {
   "cell_type": "code",
   "execution_count": 36,
   "id": "5f80c945",
   "metadata": {},
   "outputs": [
    {
     "data": {
      "text/plain": [
       "['Tomato___Bacterial_spot',\n",
       " 'Tomato___Early_blight',\n",
       " 'Tomato___Late_blight',\n",
       " 'Tomato___Leaf_Mold',\n",
       " 'Tomato___Septoria_leaf_spot',\n",
       " 'Tomato___Spider_mites Two-spotted_spider_mite',\n",
       " 'Tomato___Target_Spot',\n",
       " 'Tomato___Tomato_Yellow_Leaf_Curl_Virus',\n",
       " 'Tomato___Tomato_mosaic_virus',\n",
       " 'Tomato___healthy']"
      ]
     },
     "execution_count": 36,
     "metadata": {},
     "output_type": "execute_result"
    }
   ],
   "source": [
    "class_name = validation_set.class_names\n",
    "class_name"
   ]
  },
  {
   "cell_type": "code",
   "execution_count": 37,
   "id": "8b529f4a",
   "metadata": {},
   "outputs": [
    {
     "name": "stdout",
     "output_type": "stream",
     "text": [
      "Found 4585 files belonging to 10 classes.\n"
     ]
    }
   ],
   "source": [
    "test_set = tf.keras.utils.image_dataset_from_directory(\n",
    "    'valid',\n",
    "    labels=\"inferred\",\n",
    "    label_mode=\"categorical\",\n",
    "    class_names=None,\n",
    "    color_mode=\"rgb\",\n",
    "    batch_size=32,\n",
    "    image_size=(128, 128),\n",
    "    shuffle=False,\n",
    "    seed=None,\n",
    "    validation_split=None,\n",
    "    subset=None,\n",
    "    interpolation=\"bilinear\",\n",
    "    follow_links=False,\n",
    "    crop_to_aspect_ratio=False,\n",
    ")"
   ]
  },
  {
   "cell_type": "code",
   "execution_count": 38,
   "id": "0257a6f1",
   "metadata": {},
   "outputs": [
    {
     "name": "stdout",
     "output_type": "stream",
     "text": [
      "144/144 [==============================] - 37s 254ms/step\n"
     ]
    },
    {
     "data": {
      "text/plain": [
       "(array([[9.6515447e-01, 2.3624049e-02, 2.0406165e-03, ..., 1.8839162e-03,\n",
       "         1.5506916e-05, 4.3820555e-06],\n",
       "        [9.4928825e-01, 4.3747663e-02, 5.2571791e-04, ..., 1.8077795e-03,\n",
       "         4.5118562e-05, 6.7300198e-06],\n",
       "        [9.9624890e-01, 2.6944522e-03, 2.1686468e-04, ..., 2.2389661e-04,\n",
       "         1.3536055e-06, 1.1588306e-06],\n",
       "        ...,\n",
       "        [5.5689557e-04, 2.3661784e-04, 9.8171532e-03, ..., 1.8925637e-04,\n",
       "         8.8179037e-03, 9.4685382e-01],\n",
       "        [2.0738291e-04, 1.1204050e-04, 2.8410712e-03, ..., 3.8907383e-05,\n",
       "         1.1334926e-03, 9.8828644e-01],\n",
       "        [5.7865532e-07, 5.2176547e-05, 7.0252674e-05, ..., 1.6148509e-06,\n",
       "         8.9444668e-04, 9.8919594e-01]], dtype=float32),\n",
       " (4585, 10))"
      ]
     },
     "execution_count": 38,
     "metadata": {},
     "output_type": "execute_result"
    }
   ],
   "source": [
    "y_pred = model.predict(test_set)\n",
    "y_pred,y_pred.shape"
   ]
  },
  {
   "cell_type": "code",
   "execution_count": 39,
   "id": "206c9018",
   "metadata": {},
   "outputs": [],
   "source": [
    "predicted_categories = tf.argmax(y_pred,axis=1)"
   ]
  },
  {
   "cell_type": "code",
   "execution_count": 40,
   "id": "c8314a49",
   "metadata": {},
   "outputs": [
    {
     "data": {
      "text/plain": [
       "<tf.Tensor: shape=(4585,), dtype=int64, numpy=array([0, 0, 0, ..., 9, 9, 9], dtype=int64)>"
      ]
     },
     "execution_count": 40,
     "metadata": {},
     "output_type": "execute_result"
    }
   ],
   "source": [
    "predicted_categories"
   ]
  },
  {
   "cell_type": "code",
   "execution_count": 41,
   "id": "88575e47",
   "metadata": {},
   "outputs": [
    {
     "data": {
      "text/plain": [
       "<tf.Tensor: shape=(4585, 10), dtype=float32, numpy=\n",
       "array([[1., 0., 0., ..., 0., 0., 0.],\n",
       "       [1., 0., 0., ..., 0., 0., 0.],\n",
       "       [1., 0., 0., ..., 0., 0., 0.],\n",
       "       ...,\n",
       "       [0., 0., 0., ..., 0., 0., 1.],\n",
       "       [0., 0., 0., ..., 0., 0., 1.],\n",
       "       [0., 0., 0., ..., 0., 0., 1.]], dtype=float32)>"
      ]
     },
     "execution_count": 41,
     "metadata": {},
     "output_type": "execute_result"
    }
   ],
   "source": [
    "true_categories = tf.concat([y for x,y in test_set],axis=0)\n",
    "true_categories"
   ]
  },
  {
   "cell_type": "code",
   "execution_count": 42,
   "id": "712bccc1",
   "metadata": {},
   "outputs": [
    {
     "data": {
      "text/plain": [
       "<tf.Tensor: shape=(4585,), dtype=int64, numpy=array([0, 0, 0, ..., 9, 9, 9], dtype=int64)>"
      ]
     },
     "execution_count": 42,
     "metadata": {},
     "output_type": "execute_result"
    }
   ],
   "source": [
    "Y_true = tf.argmax(true_categories,axis=1)\n",
    "Y_true"
   ]
  },
  {
   "cell_type": "code",
   "execution_count": 43,
   "id": "9be35753",
   "metadata": {},
   "outputs": [],
   "source": [
    "from sklearn.metrics import classification_report,confusion_matrix"
   ]
  },
  {
   "cell_type": "code",
   "execution_count": 44,
   "id": "97eb34c3",
   "metadata": {},
   "outputs": [
    {
     "name": "stdout",
     "output_type": "stream",
     "text": [
      "                                               precision    recall  f1-score   support\n",
      "\n",
      "                      Tomato___Bacterial_spot       0.88      0.85      0.87       425\n",
      "                        Tomato___Early_blight       0.65      0.62      0.63       480\n",
      "                         Tomato___Late_blight       0.86      0.60      0.71       463\n",
      "                           Tomato___Leaf_Mold       0.86      0.75      0.80       470\n",
      "                  Tomato___Septoria_leaf_spot       0.65      0.63      0.64       436\n",
      "Tomato___Spider_mites Two-spotted_spider_mite       0.90      0.50      0.65       435\n",
      "                         Tomato___Target_Spot       0.74      0.75      0.75       457\n",
      "       Tomato___Tomato_Yellow_Leaf_Curl_Virus       0.83      0.97      0.89       490\n",
      "                 Tomato___Tomato_mosaic_virus       0.59      0.98      0.74       448\n",
      "                             Tomato___healthy       0.87      0.98      0.92       481\n",
      "\n",
      "                                     accuracy                           0.77      4585\n",
      "                                    macro avg       0.78      0.76      0.76      4585\n",
      "                                 weighted avg       0.78      0.77      0.76      4585\n",
      "\n"
     ]
    }
   ],
   "source": [
    "print(classification_report(Y_true,predicted_categories,target_names=class_name))"
   ]
  },
  {
   "cell_type": "code",
   "execution_count": 45,
   "id": "c92ad4f0",
   "metadata": {},
   "outputs": [
    {
     "data": {
      "text/plain": [
       "array([[362,  11,   6,   0,  12,   0,   1,  29,   3,   1],\n",
       "       [ 14, 296,  23,  18,  34,   3,  34,  23,  34,   1],\n",
       "       [  8,  84, 277,  13,  39,   1,   5,   8,  13,  15],\n",
       "       [  1,  24,   1, 354,  41,   3,   0,   5,  41,   0],\n",
       "       [ 18,  15,   8,  25, 275,   4,  10,  10,  64,   7],\n",
       "       [  4,  10,   0,   0,   4, 219,  66,  23, 103,   6],\n",
       "       [  2,  10,   0,   0,  16,  12, 344,   1,  39,  33],\n",
       "       [  2,   3,   2,   0,   1,   1,   0, 476,   5,   0],\n",
       "       [  0,   0,   1,   0,   1,   0,   0,   0, 441,   5],\n",
       "       [  0,   0,   3,   0,   3,   0,   3,   0,   1, 471]], dtype=int64)"
      ]
     },
     "execution_count": 45,
     "metadata": {},
     "output_type": "execute_result"
    }
   ],
   "source": [
    "cm = confusion_matrix(Y_true,predicted_categories)\n",
    "cm"
   ]
  },
  {
   "cell_type": "markdown",
   "id": "b59c7b9d",
   "metadata": {},
   "source": [
    "Confusion Matrix Visualization"
   ]
  },
  {
   "cell_type": "code",
   "execution_count": 46,
   "id": "f2b071d5",
   "metadata": {},
   "outputs": [
    {
     "data": {
      "image/png": "[encoded data removed]",
      "text/plain": [
       "<Figure size 4000x4000 with 2 Axes>"
      ]
     },
     "metadata": {},
     "output_type": "display_data"
    }
   ],
   "source": [
    "plt.figure(figsize=(40,40))\n",
    "sns.heatmap(cm,annot=True,annot_kws={'size':10})\n",
    "plt.xlabel(\"Predicted Class\",fontsize=20)\n",
    "plt.ylabel(\"Actual Class\",fontsize=20)\n",
    "plt.title(\"Plant Disease Prediction Confusion Matrix\",fontsize=25)\n",
    "plt.show()"
   ]
  }
 ],
 "metadata": {
  "kernelspec": {
   "display_name": "tf-cpu",
   "language": "python",
   "name": "python3"
  },
  "language_info": {
   "codemirror_mode": {
    "name": "ipython",
    "version": 3
   },
   "file_extension": ".py",
   "mimetype": "text/x-python",
   "name": "python",
   "nbconvert_exporter": "python",
   "pygments_lexer": "ipython3",
   "version": "3.10.16"
  }
 },
 "nbformat": 4,
 "nbformat_minor": 5
}
